{
 "metadata": {
  "language_info": {
   "codemirror_mode": {
    "name": "ipython",
    "version": 3
   },
   "file_extension": ".py",
   "mimetype": "text/x-python",
   "name": "python",
   "nbconvert_exporter": "python",
   "pygments_lexer": "ipython3",
   "version": "3.8.8-final"
  },
  "orig_nbformat": 2,
  "kernelspec": {
   "name": "python388jvsc74a57bd075d1c3bd0df0c3603b28413487dcb2b805357fba1176ee68bbc9b423383f51bf",
   "display_name": "Python 3.8.8 64-bit ('ist652_sandbox': conda)"
  }
 },
 "nbformat": 4,
 "nbformat_minor": 2,
 "cells": [
  {
   "source": [
    "This notebook was designed to work with [Google Colab](https://colab.research.google.com/github/lokdoesdata/syracuse-assorted/blob/main/ist_652/lab_2/lok_ngan_lab_problem_2.ipynb).\n",
    "\n",
    "[![Open In Colab](https://colab.research.google.com/assets/colab-badge.svg)](https://colab.research.google.com/github/lokdoesdata/syracuse-assorted/blob/main/ist_652/lab_2/lok_ngan_lab_problem_2.ipynb)"
   ],
   "cell_type": "markdown",
   "metadata": {}
  },
  {
   "source": [
    "# IST 652 - Lab 2 \n",
    "\n",
    "Lok Ngan  \n",
    "Due: April 27, 2021\n",
    "\n",
    "-----------\n",
    "\n",
    "Dictionaries: You may wish to write the code for parts a–d in one Python file.  \n",
    "\n",
    "**Submit your code and the output of your program.** Submit assignment as a .txt, .py, .pdf, or jupyter notebook file.\n"
   ],
   "cell_type": "markdown",
   "metadata": {}
  },
  {
   "source": [
    "Consider the following two dictionaries:  \n",
    "\n",
    "`stock = {\"banana\": 6, \"apple\": 0, \"orange\": 32, \"pear\": 15}`  \n",
    "`prices = {\"banana\": 4, \"apple\": 2, \"orange\": 1.5, \"pear\": 3}`"
   ],
   "cell_type": "markdown",
   "metadata": {}
  },
  {
   "cell_type": "code",
   "execution_count": 1,
   "metadata": {},
   "outputs": [],
   "source": [
    "from decimal import Decimal, getcontext, ROUND_HALF_UP # Python uses banker's rounding by default"
   ]
  },
  {
   "cell_type": "code",
   "execution_count": 2,
   "metadata": {},
   "outputs": [],
   "source": [
    "stock = {\"banana\": 6, \"apple\": 0, \"orange\": 32, \"pear\": 15}\n",
    "prices = {\"banana\": 4, \"apple\": 2, \"orange\": 1.5, \"pear\": 3}"
   ]
  },
  {
   "source": [
    "a-1. Show the expression that gets the value of the stock dictionary at the key 'orange'. "
   ],
   "cell_type": "markdown",
   "metadata": {}
  },
  {
   "cell_type": "code",
   "execution_count": 3,
   "metadata": {},
   "outputs": [
    {
     "output_type": "execute_result",
     "data": {
      "text/plain": [
       "32"
      ]
     },
     "metadata": {},
     "execution_count": 3
    }
   ],
   "source": [
    "stock.get('orange')"
   ]
  },
  {
   "source": [
    "a-2. Show a statement that adds an item to the stock dictionary called ‘cherry’ with some integer value and that adds 'cherry' to the prices dictionary with a numeric value. (Or pick your own fruit name.) "
   ],
   "cell_type": "markdown",
   "metadata": {}
  },
  {
   "cell_type": "code",
   "execution_count": 4,
   "metadata": {},
   "outputs": [],
   "source": [
    "stock['cherry'] = 14\n",
    "prices['cherry'] = 22.6"
   ]
  },
  {
   "source": [
    "b. Write the code for a loop that iterates over the stock dictionary and prints each key and value. "
   ],
   "cell_type": "markdown",
   "metadata": {}
  },
  {
   "cell_type": "code",
   "execution_count": 5,
   "metadata": {},
   "outputs": [
    {
     "output_type": "stream",
     "name": "stdout",
     "text": [
      "banana 6\napple 0\norange 32\npear 15\ncherry 14\n"
     ]
    }
   ],
   "source": [
    "for k, v in stock.items(): print(k, v)"
   ]
  },
  {
   "source": [
    "c. Suppose that we have a list:\n",
    "\n",
    "`groceries = ['apple', 'banana', 'pear']` \n",
    "\n",
    "Write the code that will sum the total number in stock of the items in the groceries list.  "
   ],
   "cell_type": "markdown",
   "metadata": {}
  },
  {
   "cell_type": "code",
   "execution_count": 6,
   "metadata": {},
   "outputs": [
    {
     "output_type": "execute_result",
     "data": {
      "text/plain": [
       "21"
      ]
     },
     "metadata": {},
     "execution_count": 6
    }
   ],
   "source": [
    "groceries = ['apple', 'banana', 'pear']\n",
    "sum([stock[k] for k in groceries])"
   ]
  },
  {
   "source": [
    "d. Write the code that can print out the total value in stock of all the items. This program can iterate over the stock dictionary and for each item multiply the number in stock times the price of that item in the prices dictionary. (This can include the items for 'cherry' or not, as you choose.)"
   ],
   "cell_type": "markdown",
   "metadata": {}
  },
  {
   "cell_type": "code",
   "execution_count": 7,
   "metadata": {},
   "outputs": [
    {
     "output_type": "execute_result",
     "data": {
      "text/plain": [
       "Decimal('433.40')"
      ]
     },
     "metadata": {},
     "execution_count": 7
    }
   ],
   "source": [
    "context = getcontext()\n",
    "context.rounding = ROUND_HALF_UP\n",
    "\n",
    "round(Decimal(sum(stock[k]*prices[k] for k in stock)), 2)"
   ]
  }
 ]
}