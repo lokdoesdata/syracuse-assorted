{
 "metadata": {
  "language_info": {
   "codemirror_mode": {
    "name": "ipython",
    "version": 3
   },
   "file_extension": ".py",
   "mimetype": "text/x-python",
   "name": "python",
   "nbconvert_exporter": "python",
   "pygments_lexer": "ipython3",
   "version": 3
  },
  "orig_nbformat": 2
 },
 "nbformat": 4,
 "nbformat_minor": 2,
 "cells": [
  {
   "source": [
    "This notebook was designed to work with [Google Colab](https://colab.research.google.com/github/lokdoesdata/syracuse-assorted/blob/main/ist_652/shared/mongodb_on_Google_Colab.ipynb).\n",
    "\n",
    "[![Open In Colab](https://colab.research.google.com/assets/colab-badge.svg)](https://colab.research.google.com/github/lokdoesdata/syracuse-assorted/blob/main/ist_652/shared/mongodb_on_Google_Colab.ipynb)"
   ],
   "cell_type": "markdown",
   "metadata": {}
  },
  {
   "source": [
    "# Get MongoDB on Google Colab\n",
    "\n",
    "Author: Lok Ngan"
   ],
   "cell_type": "markdown",
   "metadata": {}
  },
  {
   "cell_type": "code",
   "execution_count": null,
   "metadata": {},
   "outputs": [],
   "source": [
    "## Install pymongo"
   ]
  },
  {
   "cell_type": "code",
   "execution_count": null,
   "metadata": {},
   "outputs": [],
   "source": [
    "%pip install pymongo"
   ]
  },
  {
   "source": [
    "## Install mongodb and start it"
   ],
   "cell_type": "markdown",
   "metadata": {}
  },
  {
   "cell_type": "code",
   "execution_count": null,
   "metadata": {},
   "outputs": [],
   "source": [
    "!apt install mongodb\n",
    "!service mongodb start"
   ]
  },
  {
   "source": [
    "## Took this from Tyler's Jupyter Notebook as an Example"
   ],
   "cell_type": "markdown",
   "metadata": {}
  },
  {
   "cell_type": "code",
   "execution_count": null,
   "metadata": {},
   "outputs": [],
   "source": [
    "from pymongo import MongoClient\n",
    "from urllib.request import urlopen\n",
    "import json"
   ]
  },
  {
   "cell_type": "code",
   "execution_count": null,
   "metadata": {},
   "outputs": [],
   "source": [
    "bball_url = 'https://2su.datascience.syr.edu/content/files-api/files/40aced0c-cd48-4bdd-903e-eae2d2dc3f71'\n",
    "bball_page = urlopen(bball_url)\n",
    "bball_str = bball_page.read().decode('utf-8')\n",
    "bball_data = json.loads(bball_str.replace(\"$\", \"\"))"
   ]
  },
  {
   "cell_type": "code",
   "execution_count": null,
   "metadata": {},
   "outputs": [],
   "source": [
    "client = MongoClient()"
   ]
  },
  {
   "cell_type": "code",
   "execution_count": null,
   "metadata": {},
   "outputs": [],
   "source": [
    "print('current databases:', client.list_database_names())"
   ]
  },
  {
   "cell_type": "code",
   "execution_count": null,
   "metadata": {},
   "outputs": [],
   "source": [
    "bballdb = client.bball\n",
    "\n",
    "# create a new collection\n",
    "# or overwrite if it exists\n",
    "bballcoll = bballdb.bballcoll\n",
    "print(type(bballcoll))"
   ]
  },
  {
   "cell_type": "code",
   "execution_count": null,
   "metadata": {},
   "outputs": [],
   "source": [
    "# load data into the collection\n",
    "# if error then skip the record\n",
    "# some duplicate keys caused error\n",
    "for doc in bball_data:\n",
    "    try:\n",
    "        bballcoll.insert_one(doc)\n",
    "    except:\n",
    "        continue"
   ]
  },
  {
   "cell_type": "code",
   "execution_count": null,
   "metadata": {},
   "outputs": [],
   "source": [
    "# retrieve all the docs from the coll\n",
    "bball_docs = bballcoll.find()\n",
    "type(bball_docs)"
   ]
  },
  {
   "cell_type": "code",
   "execution_count": null,
   "metadata": {},
   "outputs": [],
   "source": [
    "# put all the docs into a doc list\n",
    "doclist = [tweet for tweet in bball_docs]\n",
    "len(doclist)"
   ]
  },
  {
   "cell_type": "code",
   "execution_count": null,
   "metadata": {},
   "outputs": [],
   "source": [
    "# create a function that prints tweets\n",
    "# prints out the specified information\n",
    "def print_tweet_data(tweets):\n",
    "  for tweet in tweets:\n",
    "    print('\\nDate:', tweet['created_at'])\n",
    "    print('From:', tweet['user']['name'])\n",
    "    print('Message', tweet['text'])\n",
    "\n",
    "# use the function on the first 5 docs\n",
    "print_tweet_data(doclist[:5])"
   ]
  },
  {
   "cell_type": "code",
   "execution_count": null,
   "metadata": {},
   "outputs": [],
   "source": [
    "doclist[0].keys()"
   ]
  },
  {
   "source": [
    "## Don't forget to stop mongoDB when you are done"
   ],
   "cell_type": "markdown",
   "metadata": {}
  },
  {
   "cell_type": "code",
   "execution_count": null,
   "metadata": {},
   "outputs": [],
   "source": [
    "!service mongodb stop"
   ]
  }
 ]
}