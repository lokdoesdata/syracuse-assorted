{
 "metadata": {
  "language_info": {
   "codemirror_mode": {
    "name": "ipython",
    "version": 3
   },
   "file_extension": ".py",
   "mimetype": "text/x-python",
   "name": "python",
   "nbconvert_exporter": "python",
   "pygments_lexer": "ipython3",
   "version": "3.9.2"
  },
  "orig_nbformat": 2,
  "kernelspec": {
   "name": "python392jvsc74a57bd0fc59fdb1acb3cbc6f619a60cab1ecbae9dda687288e1513ae2f908be914d150e",
   "display_name": "Python 3.9.2 64-bit ('gpd': conda)"
  }
 },
 "nbformat": 4,
 "nbformat_minor": 2,
 "cells": [
  {
   "source": [
    "This notebook was designed to work with [Google Colab](https://colab.research.google.com/github/lokdoesdata/syracuse-assorted/blob/main/ist_652/project/lok_ngan_final_project.ipynb).\n",
    "\n",
    "[![Open In Colab](https://colab.research.google.com/assets/colab-badge.svg)](https://colab.research.google.com/github/lokdoesdata/syracuse-assorted/blob/main/ist_652/project/lok_ngan_final_project.ipynb)"
   ],
   "cell_type": "markdown",
   "metadata": {}
  },
  {
   "source": [
    "# IST 652 - Final Project\n",
    "Lok Ngan\n",
    "\n",
    "Due: June 11, 2021\n",
    "\n",
    "-------------\n",
    "In this project, the population changes in the United States will be analyzed and visualized.  The primary dataset used in this analysis is the [annual residential population](https://www2.census.gov/programs-surveys/popest/datasets/2010-2020/counties/totals/co-est2020-alldata.csv) published by the United States Census Bureau.  The analysis will be conducted at the county level to gain understanding on:\n",
    "\n",
    "1. Population changes for each county between 2010 and 2020.\n",
    "2. Drivers for population changes for those counties.\n",
    "3. Domestic immigration within the United States between 2010 and 2020.\n",
    "\n",
    "The data analysis will be supported with data visualization using Plotly."
   ],
   "cell_type": "markdown",
   "metadata": {}
  },
  {
   "source": [
    "## Set Up"
   ],
   "cell_type": "markdown",
   "metadata": {}
  },
  {
   "source": [
    "### Install Geopandas on Google Colab"
   ],
   "cell_type": "markdown",
   "metadata": {}
  },
  {
   "cell_type": "code",
   "execution_count": null,
   "metadata": {},
   "outputs": [],
   "source": [
    "%pip install geopandas"
   ]
  },
  {
   "source": [
    "### Import libraries\n",
    "\n",
    "`Pandas`, `GeoPandas`, and `Plotly` were the primary libaries used for the analysis.\n",
    "\n",
    "* `Pandas` is a data manipulation and analytical tool.\n",
    "* `numpy` is a library for vectorized calculation.\n",
    "* `GeoPandas` is similar to `Pandas`, but created for geospatial analysis.\n",
    "* `Plotly` is an library used to create interactive visualization.\n",
    "\n",
    "Other libaries used were `pathlib`.\n",
    "\n",
    "* `pathlib` is a filesystem library used for I/O."
   ],
   "cell_type": "markdown",
   "metadata": {}
  },
  {
   "cell_type": "code",
   "execution_count": null,
   "metadata": {},
   "outputs": [],
   "source": [
    "import pandas as pd\n",
    "import numpy as np\n",
    "import geopandas as gpd\n",
    "import plotly.express as px\n",
    "import plotly.graph_objects as go\n",
    "\n",
    "from pathlib import Path"
   ]
  },
  {
   "source": [
    "### I/O"
   ],
   "cell_type": "markdown",
   "metadata": {}
  },
  {
   "cell_type": "code",
   "execution_count": null,
   "metadata": {},
   "outputs": [],
   "source": [
    "DATA_PATH = Path.cwd().joinpath('data')\n",
    "DATA_PATH.mkdir(exist_ok=True, parents=True)\n",
    "\n",
    "OUTPUT_PATH = Path.cwd().joinpath('output')\n",
    "OUTPUT_PATH.mkdir(exist_ok=True, parents=True)\n"
   ]
  },
  {
   "source": [
    "## Data"
   ],
   "cell_type": "markdown",
   "metadata": {}
  },
  {
   "source": [
    "### Population Change by County"
   ],
   "cell_type": "markdown",
   "metadata": {}
  },
  {
   "source": [
    "The primary dataset used in this analysis is the [annual residential population](https://www2.census.gov/programs-surveys/popest/datasets/2010-2020/counties/totals/co-est2020-alldata.csv) published by the United States Census Bureau.  It has information on population, population changes, and estimated components of population changes by counties and states between April 1, 2010 to July 1, 2020.  \n",
    "\n",
    "This dataset has 3,193 unique rows across 179 columns.  Some of the key columns are highlighted below:\n",
    "\n",
    "| Field                                 | Description                               | Purpose                               | Data Type |\n",
    "| :------------------------------------ | :---------------------------------------- | :------------------------------------ | :-------: |\n",
    "| SUMLEV                                | Geographical summary level                | Used to identify state versus county  | Numerical |\n",
    "| STATE                                 | State FIPS code                           | FIPS for the state, used for visual   | Numerical |\n",
    "| County                                | County FIPS code                          | FIPS for the county, used for visual  | Numerical |\n",
    "| STNAME                                | Name of the state                         | Used to identify the state by name    | String    |\n",
    "| CTYNAME                               | Name of the county                        | Used to identify the county by name   | String    |\n",
    "| CENSUS2010POP                         | Residential population from 2010 Census   | Baseline for population               | Numerical |\n",
    "| POPESTIME2010 (through 2020)          | Estimated total residential population    | Estimated population by year          | Numerical |\n",
    "| BIRTHS2010 (through 2020)             | Births                                    | Nirths by year                        | Numerical |\n",
    "| DEATHS2010 (through 2020)             | Deaths                                    | Deaths by year                        | Numerical |\n",
    "| INTERNATIONALMIG2010 (through 2020)   | Net international migration               | Net international migration by year   | Numerical |\n",
    "| DOMESTICMIG2010 (through 2020)        | Net domestic migration                    | Net domestic migration by year        | Numerical |\n",
    "| NETMIG2010 (through 2020)             | Net migration                             | Net migration by year                 | Numerical |\n",
    "| RESIDUAL2010 (through 2020)           | Residual                                  | Residual by year                      | Numerical |\n",
    "\n"
   ],
   "cell_type": "markdown",
   "metadata": {}
  },
  {
   "cell_type": "code",
   "execution_count": null,
   "metadata": {},
   "outputs": [],
   "source": [
    "if not DATA_PATH.joinpath('co-est2020-alldata.csv').is_file():\n",
    "    df_census = pd.read_csv(\n",
    "        r'https://www2.census.gov/programs-surveys/popest/datasets/2010-2020/counties/totals/co-est2020-alldata.csv',\n",
    "        encoding='latin-1')\n",
    "    df_census.to_csv(DATA_PATH.joinpath('co-est2020-alldata.csv'), index=False)\n",
    "else:\n",
    "    df_census = pd.read_csv(DATA_PATH.joinpath('co-est2020-alldata.csv'))"
   ]
  },
  {
   "source": [
    "#### Quick Examination"
   ],
   "cell_type": "markdown",
   "metadata": {}
  },
  {
   "cell_type": "code",
   "execution_count": null,
   "metadata": {},
   "outputs": [],
   "source": [
    "df_census.head(3)"
   ]
  },
  {
   "source": [
    "#### Data Cleaning\n",
    "\n",
    "The population change dataset is a very large dataset, and good portion of the data would not be used."
   ],
   "cell_type": "markdown",
   "metadata": {}
  },
  {
   "source": [
    "##### SUMLEV\n",
    "\n",
    "SUMLEV is the geographical summary level.  In this dataset, it indicates if the data point is for a state or a county.  As the analysis focuses on county level analysis, the data will be filtered for county data only, and SUMLEV will be deleted."
   ],
   "cell_type": "markdown",
   "metadata": {}
  },
  {
   "cell_type": "code",
   "execution_count": null,
   "metadata": {},
   "outputs": [],
   "source": [
    "df_census = df_census.copy()[df_census['SUMLEV']==50]\n",
    "df_census.drop(['SUMLEV'], axis=1, inplace=True)"
   ]
  },
  {
   "source": [
    "##### FIPS Codes\n",
    "\n",
    "The state and county FIPS codes are useful for visualization as most geospatial uses FIPS codes for references.  For the GeoJSON dataset that will be used for visualization, the FIPS codes is formatted as XXYYY, where XX is the two-digit state FIPS code, and YYY is the three-digit county FIPS code.  The FIPS codes on population change dataset will be adjusted to follow the same format."
   ],
   "cell_type": "markdown",
   "metadata": {}
  },
  {
   "cell_type": "code",
   "execution_count": null,
   "metadata": {},
   "outputs": [],
   "source": [
    "df_census.insert(0, 'id', df_census['STATE'].astype(str).str.zfill(2) + df_census['COUNTY'].astype(str).str.zfill(3))"
   ]
  },
  {
   "source": [
    "##### Remove any other columns not used"
   ],
   "cell_type": "markdown",
   "metadata": {}
  },
  {
   "cell_type": "code",
   "execution_count": null,
   "metadata": {},
   "outputs": [],
   "source": [
    "dict_col_drop = {\n",
    "    'REGION': None,\n",
    "    'DIVISION': None,\n",
    "    'STATE': None,\n",
    "    'COUNTY': None,\n",
    "    'STNAME': None,\n",
    "    'CTYNAME': None,\n",
    "    'NPOPCHG_': (2010, 2020),\n",
    "    'NATURALINC': (2010, 2020),\n",
    "    'NETMIG': (2010, 2020),\n",
    "    'GQESTIMATESBASE': (2010, 2010),\n",
    "    'GQESTIMATES': (2010, 2020),\n",
    "    'RBIRTH': (2011, 2020),\n",
    "    'RDEATH': (2011, 2020),\n",
    "    'RNATURALINC': (2011, 2020),\n",
    "    'RINTERNATIONALMIG': (2011, 2020),\n",
    "    'RDOMESTICMIG': (2011, 2020),\n",
    "    'RNETMIG': (2011, 2020)\n",
    "}\n",
    "\n",
    "cols_to_remove = []\n",
    "\n",
    "for k, v in dict_col_drop.items():\n",
    "    if v is None:\n",
    "        cols_to_remove.append(k)\n",
    "    else:\n",
    "        for y in range(v[0], v[1]+1):\n",
    "           cols_to_remove.append(f'{k}{y}')\n",
    "\n",
    "df_census.drop(\n",
    "    cols_to_remove, axis=1, inplace=True)"
   ]
  },
  {
   "source": [
    "### GeoJSON file of United States County"
   ],
   "cell_type": "markdown",
   "metadata": {}
  },
  {
   "cell_type": "code",
   "execution_count": null,
   "metadata": {},
   "outputs": [],
   "source": [
    "if not DATA_PATH.joinpath('geojson-counties-fips.json').is_file():\n",
    "    gdf_county = gpd.read_file(r'https://raw.githubusercontent.com/plotly/datasets/master/geojson-counties-fips.json')\n",
    "    gdf_county.to_file(DATA_PATH.joinpath('geojson-counties-fips.json'), driver='GeoJSON')\n",
    "else:\n",
    "    gdf_county = gpd.read_file(DATA_PATH.joinpath('geojson-counties-fips.json'))"
   ]
  },
  {
   "cell_type": "code",
   "execution_count": null,
   "metadata": {},
   "outputs": [],
   "source": [
    "gdf_county.rename({'NAME': 'Name'}, axis=1, inplace=True)"
   ]
  },
  {
   "source": [
    "#### Remove unused columns"
   ],
   "cell_type": "markdown",
   "metadata": {}
  },
  {
   "cell_type": "code",
   "execution_count": null,
   "metadata": {},
   "outputs": [],
   "source": [
    "gdf_county = gdf_county[['id', 'Name', 'geometry']]"
   ]
  },
  {
   "source": [
    "### Combining datasets"
   ],
   "cell_type": "markdown",
   "metadata": {}
  },
  {
   "cell_type": "code",
   "execution_count": null,
   "metadata": {},
   "outputs": [],
   "source": [
    "df_census = gdf_county.merge(df_census, how='left', on='id')"
   ]
  },
  {
   "cell_type": "code",
   "execution_count": null,
   "metadata": {},
   "outputs": [],
   "source": [
    "df_census.shape"
   ]
  },
  {
   "source": [
    "The resulting GeoDataFrame has 3,221 rows across 71 columns."
   ],
   "cell_type": "markdown",
   "metadata": {}
  },
  {
   "source": [
    "## Analysis"
   ],
   "cell_type": "markdown",
   "metadata": {}
  },
  {
   "source": [
    "### Population changes for each county between 2010 and 2020\n",
    "\n",
    "The population change between 2010 and 2020 will be approximated using the population estimate from 2010 and 2020."
   ],
   "cell_type": "markdown",
   "metadata": {}
  },
  {
   "cell_type": "code",
   "execution_count": null,
   "metadata": {},
   "outputs": [],
   "source": [
    "df_pop_change = df_census.copy()[['id', 'Name', 'geometry', 'POPESTIMATE2010', 'POPESTIMATE2020']]\n",
    "df_pop_change['POP_CHANGE'] = df_pop_change['POPESTIMATE2020'] - df_pop_change['POPESTIMATE2010']\n",
    "df_pop_change['POP_CHANGE_PERCENT'] = round(df_pop_change['POP_CHANGE']*100/df_pop_change['POPESTIMATE2010'], 3)"
   ]
  },
  {
   "cell_type": "code",
   "execution_count": null,
   "metadata": {},
   "outputs": [],
   "source": [
    "df_pop_change.fillna(0, inplace=True)"
   ]
  },
  {
   "cell_type": "code",
   "execution_count": null,
   "metadata": {},
   "outputs": [],
   "source": [
    "df_pop_change.sort_values('POP_CHANGE_PERCENT', ascending=False).head(5)"
   ]
  },
  {
   "cell_type": "code",
   "execution_count": null,
   "metadata": {},
   "outputs": [],
   "source": [
    "df_pop_change.sort_values('POP_CHANGE_PERCENT').head(5)"
   ]
  },
  {
   "source": [
    "The five counties with the most percent increase in populations are:\n",
    "\n",
    "1. McKenzie County, North Dakota (138%)\n",
    "2. Loving County, Texas (115%)\n",
    "3. Williams County, North Dakota (71%)\n",
    "4. Hays County, Texas (53%)\n",
    "5. Wasatch County, Utah (51%)\n",
    "\n",
    "The five counties with the most percent decrease in populations are:\n",
    "\n",
    "1. Alexsander County, Illinois (33%)\n",
    "2. Concho County, Texas (31)\n",
    "3. Terrell County, Texas (30%)\n",
    "4. McDowell County, West Virginia (23%)\n",
    "5. Morton County, Kansas (22%)"
   ],
   "cell_type": "markdown",
   "metadata": {}
  },
  {
   "cell_type": "code",
   "execution_count": null,
   "metadata": {},
   "outputs": [],
   "source": [
    "percent_change_labels = [\n",
    "    '-10% or lower', \n",
    "    '-9.9% to -2.6%', \n",
    "    '-2.5% to 2.5%', \n",
    "    '2.6% to 9.9%', \n",
    "    '10% or higher'\n",
    "]\n",
    "\n",
    "alpha = 0.9\n",
    "percent_change_color_list = [\n",
    "    f'rgba(94,60,153,{alpha})', \n",
    "    f'rgba(178,171,210,{alpha})',\n",
    "    f'rgba(247,247,247,{alpha})', \n",
    "    f'rgba(253,184,99,{alpha})', \n",
    "    f'rgba(230,97,1,{alpha})'\n",
    "]"
   ]
  },
  {
   "cell_type": "code",
   "execution_count": null,
   "metadata": {},
   "outputs": [],
   "source": [
    "df_pop_change['POPCHANGE_BIN'] = pd.cut(\n",
    "    df_pop_change['POP_CHANGE_PERCENT'], \n",
    "    bins=[-np.inf, -10, -2.5001, 2.5, 9.9999, np.inf],\n",
    "    labels=percent_change_labels,\n",
    "    right=True,\n",
    "    include_lowest=False)"
   ]
  },
  {
   "cell_type": "code",
   "execution_count": null,
   "metadata": {},
   "outputs": [],
   "source": [
    "percent_change_color_dict = {k:v for (k, v) in zip(percent_change_labels, percent_change_color_list)}"
   ]
  },
  {
   "source": [
    "A visual is much better suited to answer this question.  From the visual, it appears that there is an outward shift of population.  There is a decline in population in the center of the US and the costal areas are increasing in population.\n",
    "\n"
   ],
   "cell_type": "markdown",
   "metadata": {}
  },
  {
   "cell_type": "code",
   "execution_count": null,
   "metadata": {},
   "outputs": [],
   "source": [
    "fig = px.choropleth(\n",
    "    df_pop_change,\n",
    "    geojson=df_pop_change.geometry,\n",
    "    locations=df_pop_change.index,\n",
    "    color='POPCHANGE_BIN',\n",
    "    scope='usa',\n",
    "    color_discrete_map=percent_change_color_dict,\n",
    "    category_orders={'POPCHANGE_BIN': percent_change_labels},\n",
    "    title='Percent Population Change by County Between 2010 and 2020',\n",
    "    hover_name='Name',\n",
    "    hover_data=['POPESTIMATE2010','POPESTIMATE2020','POP_CHANGE','POP_CHANGE_PERCENT'],\n",
    "    labels={\n",
    "        'POPESTIMATE2010': '2010 Population Estimate',\n",
    "        'POPESTIMATE2020': '2020 Population Estimate',\n",
    "        'POP_CHANGE': 'Population Change',\n",
    "        'POP_CHANGE_PERCENT': 'Population Change Percentage',\n",
    "        'POPCHANGE_BIN': 'Population Change Bin'\n",
    "    }\n",
    ")\n",
    "\n",
    "fig.update_layout(\n",
    "    legend_title_text='',\n",
    "    margin=dict(\n",
    "        r=0, l=0, t=75, b=0\n",
    "    ),\n",
    "    legend=dict(\n",
    "        orientation='h',\n",
    "        yanchor='bottom',\n",
    "        y=0.96,\n",
    "        xanchor='center',\n",
    "        x=0.5\n",
    "    )\n",
    ")"
   ]
  },
  {
   "source": [
    "### Drivers for population changes for those counties.\n",
    "\n",
    "Births and Deaths are the primary drivers for many counties.  Florida's coastal area seems to take in a lot of domestic immigrants."
   ],
   "cell_type": "markdown",
   "metadata": {}
  },
  {
   "cell_type": "code",
   "execution_count": null,
   "metadata": {},
   "outputs": [],
   "source": [
    "df_driver = df_census.copy()"
   ]
  },
  {
   "cell_type": "code",
   "execution_count": null,
   "metadata": {},
   "outputs": [],
   "source": [
    "df_driver['Births'] = abs(df_driver[[col for col in df_driver.columns if col.startswith('BIRTHS')]].sum(axis=1))\n",
    "df_driver['Deaths'] = abs(df_driver[[col for col in df_driver.columns if col.startswith('DEATHS')]].sum(axis=1))\n",
    "df_driver['International Migration'] = abs(df_driver[[col for col in df_driver.columns if col.startswith('INTERNATIONALMIG')]].sum(axis=1))\n",
    "df_driver['Domestic Migration'] = abs(df_driver[[col for col in df_driver.columns if col.startswith('DOMESTICMIG')]].sum(axis=1))"
   ]
  },
  {
   "cell_type": "code",
   "execution_count": null,
   "metadata": {},
   "outputs": [],
   "source": [
    "df_driver = df_driver[['id', 'Name', 'geometry', 'Births', 'Deaths', 'International Migration', 'Domestic Migration']].copy()"
   ]
  },
  {
   "cell_type": "code",
   "execution_count": null,
   "metadata": {},
   "outputs": [],
   "source": [
    "df_driver['KEY_DRIVER'] = df_driver[['Births', 'Deaths', 'International Migration', 'Domestic Migration']].idxmax(axis=1)"
   ]
  },
  {
   "cell_type": "code",
   "execution_count": null,
   "metadata": {},
   "outputs": [],
   "source": [
    "df_driver['KEY_DRIVER'].fillna('Unknown', inplace=True)"
   ]
  },
  {
   "cell_type": "code",
   "execution_count": null,
   "metadata": {},
   "outputs": [],
   "source": [
    "driver_color_dict = {\n",
    "    'Births': f'rgba(128,177,211,{alpha})',\n",
    "    'Deaths': f'rgba(251,128,114,{alpha})',\n",
    "    'International Migration': f'rgba(190,186,218,{alpha})',\n",
    "    'Domestic Migration': f'rgba(255,255,179,{alpha})',\n",
    "    'Unknown': f'rgba(141,211,199,{alpha})',\n",
    "}"
   ]
  },
  {
   "cell_type": "code",
   "execution_count": null,
   "metadata": {},
   "outputs": [],
   "source": [
    "fig = px.choropleth(\n",
    "    df_driver,\n",
    "    geojson=df_driver.geometry,\n",
    "    locations=df_driver.index,\n",
    "    color='KEY_DRIVER',\n",
    "    scope='usa',\n",
    "    color_discrete_map=driver_color_dict,\n",
    "    category_orders={'KEY_DRIVER': list(driver_color_dict.keys())},\n",
    "    title='Key Driver for Population Change between 2010 and 2020',\n",
    "    hover_name='Name',\n",
    "    hover_data=['Name', 'Births', 'Deaths', 'International Migration', 'Domestic Migration'],\n",
    "    labels={\n",
    "        'KEY_DRIVER': 'Driver'\n",
    "    }\n",
    ")\n",
    "\n",
    "fig.update_layout(\n",
    "    legend_title_text='',\n",
    "    margin=dict(\n",
    "        r=0, l=0, t=75, b=0\n",
    "    ),\n",
    "    legend=dict(\n",
    "        orientation='h',\n",
    "        yanchor='bottom',\n",
    "        y=0.96,\n",
    "        xanchor='center',\n",
    "        x=0.5\n",
    "    )\n",
    ")"
   ]
  },
  {
   "source": [
    "### Domestic immigration within the United States between 2010 and 2020\n",
    "\n",
    "The northwestern and southeastern part of United States saw an increase of population due to domestic immigration.  Los Angeles lost the most people moving away at 767 thousands.  People are likely moving to less expensive area such as Riverside which saw an increase of population due to domestic immigration."
   ],
   "cell_type": "markdown",
   "metadata": {}
  },
  {
   "cell_type": "code",
   "execution_count": null,
   "metadata": {},
   "outputs": [],
   "source": [
    "df_dom_mig = df_census.copy()\n",
    "df_dom_mig['Domestic Migration'] = df_dom_mig[[col for col in df_dom_mig.columns if col.startswith('DOMESTICMIG')]].sum(axis=1)\n",
    "df_dom_mig = df_dom_mig[['id', 'Name', 'geometry', 'Domestic Migration']].copy()"
   ]
  },
  {
   "cell_type": "code",
   "execution_count": null,
   "metadata": {},
   "outputs": [],
   "source": [
    "df_dom_mig.sort_values('Domestic Migration')"
   ]
  },
  {
   "cell_type": "code",
   "execution_count": null,
   "metadata": {},
   "outputs": [],
   "source": [
    "dom_mig_labels = [\n",
    "    '-100,000 or lower',\n",
    "    '-99,999 to -10,100',\n",
    "    '-9,999 to -1,000',\n",
    "    '-999 to 999',\n",
    "    '1,000 to 9,999', \n",
    "    '10,000 to 99,999',\n",
    "    '100,000 or higher'\n",
    "]\n",
    "\n",
    "alpha = 0.9\n",
    "dom_mig_color_list = [\n",
    "    f'rgba(84,39,136,{alpha})', \n",
    "    f'rgba(153,142,195,{alpha})',\n",
    "    f'rgba(216,218,235,{alpha})', \n",
    "    f'rgba(247,247,247,{alpha})', \n",
    "    f'rgba(254,224,182,{alpha})',\n",
    "    f'rgba(241,163,64,{alpha})', \n",
    "    f'rgba(179,88,6,{alpha})'\n",
    "]"
   ]
  },
  {
   "cell_type": "code",
   "execution_count": null,
   "metadata": {},
   "outputs": [],
   "source": [
    "df_dom_mig['Domestic Migration Bin'] = pd.cut(\n",
    "    df_dom_mig['Domestic Migration'], \n",
    "    bins=[-np.inf, -100000, -10000, -1000, 999, 9999, 99999, np.inf],\n",
    "    labels=dom_mig_labels,\n",
    "    right=True,\n",
    "    include_lowest=False)"
   ]
  },
  {
   "cell_type": "code",
   "execution_count": null,
   "metadata": {},
   "outputs": [],
   "source": [
    "dom_mig_color_dict = {k:v for (k, v) in zip(dom_mig_labels, dom_mig_color_list)}"
   ]
  },
  {
   "cell_type": "code",
   "execution_count": null,
   "metadata": {},
   "outputs": [],
   "source": [
    "fig = px.choropleth(\n",
    "    df_dom_mig,\n",
    "    geojson=df_dom_mig.geometry,\n",
    "    locations=df_dom_mig.index,\n",
    "    color='Domestic Migration Bin',\n",
    "    scope='usa',\n",
    "    color_discrete_map=dom_mig_color_dict,\n",
    "    category_orders={'Domestic Migration Bin': dom_mig_labels},\n",
    "    title='Domestic Immigration between Counties from 2010 to 2020',\n",
    "    hover_name='Name'\n",
    ")\n",
    "\n",
    "fig.update_layout(\n",
    "    legend_title_text='',\n",
    "    margin=dict(\n",
    "        r=0, l=0, t=75, b=0\n",
    "    ),\n",
    "    legend=dict(\n",
    "        orientation='h',\n",
    "        yanchor='bottom',\n",
    "        y=0.96,\n",
    "        xanchor='center',\n",
    "        x=0.5\n",
    "    )\n",
    ")"
   ]
  }
 ]
}