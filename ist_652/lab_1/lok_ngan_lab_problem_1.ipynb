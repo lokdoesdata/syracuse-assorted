{
 "metadata": {
  "language_info": {
   "codemirror_mode": {
    "name": "ipython",
    "version": 3
   },
   "file_extension": ".py",
   "mimetype": "text/x-python",
   "name": "python",
   "nbconvert_exporter": "python",
   "pygments_lexer": "ipython3",
   "version": "3.8.8-final"
  },
  "orig_nbformat": 2,
  "kernelspec": {
   "name": "python388jvsc74a57bd075d1c3bd0df0c3603b28413487dcb2b805357fba1176ee68bbc9b423383f51bf",
   "display_name": "Python 3.8.8 64-bit ('ist652_sandbox': conda)"
  }
 },
 "nbformat": 4,
 "nbformat_minor": 2,
 "cells": [
  {
   "source": [
    "This notebook was designed to work with [Google Colab](https://colab.research.google.com/github/lokdoesdata/syracuse-assorted/blob/main/ist_652/lab_1/lok_ngan_lab_problem_1.ipynb).\n",
    "\n",
    "[![Open In Colab](https://colab.research.google.com/assets/colab-badge.svg)](https://colab.research.google.com/github/lokdoesdata/syracuse-assorted/blob/main/ist_652/lab_1/lok_ngan_lab_problem_1.ipynb)"
   ],
   "cell_type": "markdown",
   "metadata": {}
  },
  {
   "source": [
    "# IST 652 - Lab 1\n",
    "\n",
    "Lok Ngan\n",
    "\n",
    "Due: April 20, 2021\n",
    "\n",
    "----------\n",
    "\n",
    "For the NBAfile.py program, for each line, create a string using string formatting that puts the team, attendance, and ticket prices into a formatted string. Each line should look something like:  \n",
    "\n",
    "‘The attendance at Atlanta was 13993 and the ticket price was $20.06’  \n",
    "\n",
    "Your program should then print these strings instead of the lines. **Submit your code and the output of your program.** Submit assignment as a .txt, .py, .pdf, or jupyter notebook file.  "
   ],
   "cell_type": "markdown",
   "metadata": {}
  },
  {
   "source": [
    "## Set Up\n",
    "\n",
    "For this lab assignment, there are many different ways to achieve the result.  `Pandas` was chosen as it was deemed to be the most straightforward.  `Pathlib` will be used path control."
   ],
   "cell_type": "markdown",
   "metadata": {}
  },
  {
   "cell_type": "code",
   "execution_count": 1,
   "metadata": {},
   "outputs": [],
   "source": [
    "# I/O\n",
    "from pathlib import Path\n",
    "\n",
    "# Data\n",
    "import pandas as pd"
   ]
  },
  {
   "source": [
    "## Data\n",
    "\n",
    "The *NBA-Attendance-1989.txt* file was stored in the subdirectory data under the current work directory."
   ],
   "cell_type": "markdown",
   "metadata": {}
  },
  {
   "cell_type": "code",
   "execution_count": 2,
   "metadata": {},
   "outputs": [],
   "source": [
    "DATA_PATH = r'https://raw.githubusercontent.com/lokdoesdata/syracuse-assorted/main/ist_652/lab_1/data/nba-attendance-1989.txt'\n",
    "\n",
    "OUTPUT_PATH = Path.cwd().joinpath('output')\n",
    "OUTPUT_PATH.mkdir(parents=True, exist_ok=True) "
   ]
  },
  {
   "source": [
    "The data was inspected and determined to be tab separated.  There are also instances when multiple tabs were used.  Setting `sep` to '\\t+' overcomes this."
   ],
   "cell_type": "markdown",
   "metadata": {}
  },
  {
   "cell_type": "code",
   "execution_count": 3,
   "metadata": {},
   "outputs": [],
   "source": [
    "df = pd.read_csv(\n",
    "    DATA_PATH,\n",
    "    header=None,\n",
    "    names=['Team', 'Attendance', 'Ticket Price'],\n",
    "    sep='\\t+',\n",
    "    engine='python')"
   ]
  },
  {
   "source": [
    "## Helper"
   ],
   "cell_type": "markdown",
   "metadata": {}
  },
  {
   "cell_type": "code",
   "execution_count": 4,
   "metadata": {},
   "outputs": [],
   "source": [
    "def generate_string(team: str, attendence: int, ticket_price: float) -> str:\n",
    "    \"\"\"Generate a string summarizing the attendance and ticket price for a NBA team.\n",
    "\n",
    "    Parameters\n",
    "    ----------\n",
    "    team: str, name of the team\n",
    "    attendance: nonnegative int, attendance of the team\n",
    "    ticket_price: nonnegative float, ticket price of the team\n",
    "\n",
    "    Return\n",
    "    ---------\n",
    "    A string in the format of:\n",
    "    'The attendance at {team} was {attendance} and the ticket price was ${ticket_price}.'\n",
    "\n",
    "    Example\n",
    "    ---------\n",
    "    >>> generate_string('Atlanta', 13993, 20.66)\n",
    "    The attendance at Atlanta was 13993 and the ticket price was $20.06.\n",
    "    \"\"\"\n",
    "\n",
    "    if attendence < 0 or ticket_price < 0:\n",
    "        raise Exception('Attendance and Ticket Price cannot be negative numbers!')\n",
    "\n",
    "    return(f'The attendance at {team} was {attendence} and the ticket price was ${ticket_price}.')"
   ]
  },
  {
   "source": [
    "## Apply the Helper Function"
   ],
   "cell_type": "markdown",
   "metadata": {}
  },
  {
   "source": [
    "Apply the function on the slice of the DataFrame that included Team, Attendance, and Ticket Price columns.  This is to ensure repeatability of the script, as `generate_string` was written to accept three arguments, and the fourth column would cause an error once it is added."
   ],
   "cell_type": "markdown",
   "metadata": {}
  },
  {
   "cell_type": "code",
   "execution_count": 5,
   "metadata": {},
   "outputs": [],
   "source": [
    "df['Output'] = df[['Team', 'Attendance', 'Ticket Price']].apply(lambda x: generate_string(*x), axis=1)"
   ]
  },
  {
   "source": [
    "## Output"
   ],
   "cell_type": "markdown",
   "metadata": {}
  },
  {
   "source": [
    "for line in df['Output'].tolist():\n",
    "    print(line)"
   ],
   "cell_type": "code",
   "metadata": {},
   "execution_count": 6,
   "outputs": [
    {
     "output_type": "stream",
     "name": "stdout",
     "text": [
      "The attendance at Atlanta was 13993 and the ticket price was $20.06.\nThe attendance at Boston was 14916 and the ticket price was $22.54.\nThe attendance at Charlotte was 23901 and the ticket price was $17.0.\nThe attendance at Chicago was 18404 and the ticket price was $21.98.\nThe attendance at Cleveland was 16969 and the ticket price was $19.63.\nThe attendance at Dallas was 16868 and the ticket price was $17.05.\nThe attendance at Denver was 12668 and the ticket price was $17.4.\nThe attendance at Detroit was 21454 and the ticket price was $24.42.\nThe attendance at Golden_State was 15025 and the ticket price was $17.04.\nThe attendance at Houston was 15846 and the ticket price was $17.56.\nThe attendance at Indiana was 12885 and the ticket price was $13.77.\nThe attendance at LA_Clippers was 11869 and the ticket price was $21.95.\nThe attendance at LA_Lakers was 17378 and the ticket price was $29.18.\nThe attendance at Miami was 15008 and the ticket price was $17.6.\nThe attendance at Milwaukee was 16088 and the ticket price was $14.08.\nThe attendance at Minnesota was 26160 and the ticket price was $10.92.\nThe attendance at New_Jersey was 12160 and the ticket price was $13.31.\nThe attendance at New_York was 17815 and the ticket price was $22.7.\nThe attendance at Orlando was 15606 and the ticket price was $20.47.\nThe attendance at Philadelphia was 14017 and the ticket price was $19.04.\nThe attendance at Phoenix was 14114 and the ticket price was $16.59.\nThe attendance at Portland was 12884 and the ticket price was $22.19.\nThe attendance at Sacramento was 17014 and the ticket price was $16.96.\nThe attendance at San_Antonio was 14722 and the ticket price was $16.79.\nThe attendance at Seattle was 12244 and the ticket price was $18.11.\nThe attendance at Utah was 12616 and the ticket price was $18.41.\nThe attendance at Washington was 11565 and the ticket price was $14.55.\n"
     ]
    }
   ]
  },
  {
   "cell_type": "code",
   "execution_count": 7,
   "metadata": {},
   "outputs": [],
   "source": [
    "df['Output'].to_csv(OUTPUT_PATH.joinpath('lok_ngan_lab_problem_1_output.csv'), index=False)"
   ]
  },
  {
   "source": [
    "A copy of the output can be obtained [here](https://raw.githubusercontent.com/lokdoesdata/syracuse-assorted/main/ist_652/lab_1/output/lok_ngan_lab_problem_1_output.csv)"
   ],
   "cell_type": "markdown",
   "metadata": {}
  }
 ]
}