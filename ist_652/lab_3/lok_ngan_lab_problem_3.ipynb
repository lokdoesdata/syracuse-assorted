{
 "metadata": {
  "language_info": {
   "codemirror_mode": {
    "name": "ipython",
    "version": 3
   },
   "file_extension": ".py",
   "mimetype": "text/x-python",
   "name": "python",
   "nbconvert_exporter": "python",
   "pygments_lexer": "ipython3",
   "version": "3.9.2-final"
  },
  "orig_nbformat": 2,
  "kernelspec": {
   "name": "python392jvsc74a57bd0f78d9d9fda4e8014847df283e74ce918045dc38099b26a7f1a58b01135f9c35e",
   "display_name": "Python 3.9.2 64-bit ('zillow': conda)"
  }
 },
 "nbformat": 4,
 "nbformat_minor": 2,
 "cells": [
  {
   "source": [
    "This notebook was designed to work with [Google Colab](https://colab.research.google.com/github/lokdoesdata/syracuse-assorted/blob/main/ist_652/lab_3/lok_ngan_lab_problem_3.ipynb).\n",
    "\n",
    "[![Open In Colab](https://colab.research.google.com/assets/colab-badge.svg)](https://colab.research.google.com/github/lokdoesdata/syracuse-assorted/blob/main/ist_652/lab_3/lok_ngan_lab_problem_3.ipynb)"
   ],
   "cell_type": "markdown",
   "metadata": {}
  },
  {
   "source": [
    "# IST 652 - Lab 2\n",
    "\n",
    "Lok Ngan  \n",
    "Due: May 21, 2021"
   ],
   "cell_type": "markdown",
   "metadata": {}
  },
  {
   "source": [
    "## Problem 1\n",
    "\n",
    "Write a Python function to multiply all the numbers in a list.\n",
    "\n",
    "Sample List : (8, 2, 3, -1, 7)\n",
    "\n",
    "Expected Output : -336\n",
    "\n",
    "Execute the function with at least 3 different lists of numbers."
   ],
   "cell_type": "markdown",
   "metadata": {}
  },
  {
   "cell_type": "code",
   "execution_count": 12,
   "metadata": {},
   "outputs": [],
   "source": [
    "import numpy as np"
   ]
  },
  {
   "cell_type": "code",
   "execution_count": 27,
   "metadata": {},
   "outputs": [],
   "source": [
    "def multiply_everything(input):\n",
    "    output = 1\n",
    "    for i in input: output *= i\n",
    "        \n",
    "    return(output)"
   ]
  },
  {
   "cell_type": "code",
   "execution_count": 28,
   "metadata": {},
   "outputs": [
    {
     "output_type": "execute_result",
     "data": {
      "text/plain": [
       "-336"
      ]
     },
     "metadata": {},
     "execution_count": 28
    }
   ],
   "source": [
    "sample_tuple = (8, 2, 3, -1, 7)\n",
    "multiply_everything(sample_tuple)"
   ]
  },
  {
   "cell_type": "code",
   "execution_count": 32,
   "metadata": {},
   "outputs": [
    {
     "output_type": "execute_result",
     "data": {
      "text/plain": [
       "55296"
      ]
     },
     "metadata": {},
     "execution_count": 32
    }
   ],
   "source": [
    "sample_array = np.random.randint(1, 5, 10)\n",
    "multiply_everything(sample_array)"
   ]
  },
  {
   "cell_type": "code",
   "execution_count": 33,
   "metadata": {},
   "outputs": [
    {
     "output_type": "execute_result",
     "data": {
      "text/plain": [
       "-400"
      ]
     },
     "metadata": {},
     "execution_count": 33
    }
   ],
   "source": [
    "sample_list = [-1, 2, -1, -10, 20]\n",
    "multiply_everything(sample_list)"
   ]
  },
  {
   "source": [
    "## Problem 2\n",
    "\n",
    "Write a Python function that accepts a string and calculate the number of upper case letters and lower case letters.\n",
    "\n",
    "Sample String : 'The quick Brown Fox'\n",
    "\n",
    "Execute the function with at least 2 different phrases"
   ],
   "cell_type": "markdown",
   "metadata": {}
  },
  {
   "cell_type": "code",
   "execution_count": 44,
   "metadata": {},
   "outputs": [],
   "source": [
    "def letter_counter(string):\n",
    "    upper_count = sum(1 for char in string if char.isupper())\n",
    "    lower_count = sum(1 for char in string if char.islower())\n",
    "\n",
    "    print(f\"There are {upper_count} letters and {lower_count} letters in the string: '{string}'\")"
   ]
  },
  {
   "cell_type": "code",
   "execution_count": 46,
   "metadata": {},
   "outputs": [
    {
     "output_type": "stream",
     "name": "stdout",
     "text": [
      "There are 3 letters and 13 letters in the string: 'The quick Brown Fox'\n"
     ]
    }
   ],
   "source": [
    "letter_counter('The quick Brown Fox')"
   ]
  },
  {
   "cell_type": "code",
   "execution_count": 47,
   "metadata": {},
   "outputs": [
    {
     "output_type": "stream",
     "name": "stdout",
     "text": [
      "There are 9 letters and 31 letters in the string: 'WOW, does this work?  I need more UPPER case letters.'\n"
     ]
    }
   ],
   "source": [
    "letter_counter('WOW, does this work?  I need more UPPER case letters.')"
   ]
  }
 ]
}